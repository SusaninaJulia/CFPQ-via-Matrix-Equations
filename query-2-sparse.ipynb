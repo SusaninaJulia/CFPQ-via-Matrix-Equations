{
 "cells": [
  {
   "cell_type": "code",
   "execution_count": 1,
   "metadata": {},
   "outputs": [],
   "source": [
    "import numpy as np\n",
    "import numpy.linalg as la\n",
    "import scipy.optimize as scop\n",
    "import os\n",
    "from os import listdir\n",
    "from os.path import isfile, join\n",
    "\n",
    "from scipy.sparse import csc_matrix, kron, identity\n",
    "import scipy.sparse.linalg as spal"
   ]
  },
  {
   "cell_type": "code",
   "execution_count": 2,
   "metadata": {},
   "outputs": [],
   "source": [
    "def linsolv(A, B, n):\n",
    "    k = 1 / (1 + spal.norm(B, 1) * spal.norm(A, np.inf)) \n",
    "    D = identity(n*n) - k * kron(B.T, A)\n",
    "    c = B.reshape((n*n, 1))\n",
    "    #Dx = c\n",
    "    sol = spal.spsolve(D, c)\n",
    "    print(\"#results: \", np.count_nonzero(sol))"
   ]
  },
  {
   "cell_type": "code",
   "execution_count": 3,
   "metadata": {},
   "outputs": [],
   "source": [
    "def parse_graph(_file):\n",
    "    nc = 0\n",
    "    with open(_file, 'r') as graph:\n",
    "        for line in graph:\n",
    "            terms = line.split()\n",
    "            nc = max(nc, int(terms[0]), int(terms[2]))\n",
    "    nc += 1\n",
    "    \n",
    "    rowA = []\n",
    "    colA = []\n",
    "    \n",
    "    rowB = []\n",
    "    colB = []    \n",
    "    \n",
    "    with open(_file, 'rt') as graph:\n",
    "        for line in graph:\n",
    "            terms = line.split()\n",
    "            if terms[1] == \"SCOR\":\n",
    "                rowA.append(int(terms[0]))\n",
    "                colA.append(int(terms[2]))   \n",
    "            elif terms[1] == \"SCO\":\n",
    "                rowB.append(int(terms[0]))\n",
    "                colB.append(int(terms[2]))  \n",
    "                \n",
    "    lenA = len(rowA)\n",
    "    lenB = len(rowB)\n",
    "    dataA = np.ones(lenA)\n",
    "    dataB = np.ones(lenB)\n",
    "                \n",
    "    return csc_matrix((dataA, (rowA, colA)), shape = (nc, nc)), csc_matrix((dataB, (rowB, colB)), shape = (nc, nc)), nc"
   ]
  },
  {
   "cell_type": "code",
   "execution_count": 4,
   "metadata": {},
   "outputs": [],
   "source": [
    "def main(graphfile, resultfile):\n",
    "    A, B, n = parse_graph(graphfile)\n",
    "    print(\"V: \", n)\n",
    "    %timeit -r 1 -n 1 linsolv(A, B, n)\n",
    "    res = linsolv(A, B, n)"
   ]
  },
  {
   "cell_type": "code",
   "execution_count": 5,
   "metadata": {},
   "outputs": [
    {
     "name": "stdout",
     "output_type": "stream",
     "text": [
      "['people_pets.txt', 'atom-primitive.txt', 'skos.txt', 'core.txt', 'generations.txt', 'biomedical-mesure-primitive.txt', 'pizza.txt', 'univ-bench.txt', 'travel.txt', 'foaf.txt', 'wine.txt', 'funding.txt']\n",
      "['res-people_pets.txt', 'res-atom-primitive.txt', 'res-skos.txt', 'res-core.txt', 'res-generations.txt', 'res-biomedical-mesure-primitive.txt', 'res-pizza.txt', 'res-univ-bench.txt', 'res-travel.txt', 'res-foaf.txt', 'res-wine.txt', 'res-funding.txt']\n"
     ]
    }
   ],
   "source": [
    "gr_path = \"/home/ju-sus/Documents/CFPQ/data/RDF-graphs\"\n",
    "res_path = \"/home/ju-sus/Documents/CFPQ/results\"\n",
    "graphs = [f for f in listdir(gr_path) if isfile(join(gr_path, f))]\n",
    "print(graphs)\n",
    "results = [\"res-\" + f for f in graphs]\n",
    "print(results)"
   ]
  },
  {
   "cell_type": "code",
   "execution_count": 6,
   "metadata": {
    "scrolled": false
   },
   "outputs": [
    {
     "name": "stdout",
     "output_type": "stream",
     "text": [
      "\n",
      "people_pets.txt\n",
      "V:  337\n",
      "#results:  37\n",
      "49.3 ms ± 0 ns per loop (mean ± std. dev. of 1 run, 1 loop each)\n",
      "#results:  37\n",
      "88.2 ms ± 0 ns per loop (mean ± std. dev. of 1 run, 1 loop each)\n",
      "\n",
      "atom-primitive.txt\n",
      "V:  291\n",
      "#results:  122\n",
      "27 ms ± 0 ns per loop (mean ± std. dev. of 1 run, 1 loop each)\n",
      "#results:  122\n",
      "56.2 ms ± 0 ns per loop (mean ± std. dev. of 1 run, 1 loop each)\n",
      "\n",
      "skos.txt\n",
      "V:  144\n",
      "#results:  1\n",
      "7.3 ms ± 0 ns per loop (mean ± std. dev. of 1 run, 1 loop each)\n",
      "#results:  1\n",
      "15 ms ± 0 ns per loop (mean ± std. dev. of 1 run, 1 loop each)\n",
      "\n",
      "core.txt\n",
      "V:  1323\n",
      "#results:  214\n",
      "567 ms ± 0 ns per loop (mean ± std. dev. of 1 run, 1 loop each)\n",
      "#results:  214\n",
      "1.11 s ± 0 ns per loop (mean ± std. dev. of 1 run, 1 loop each)\n",
      "\n",
      "generations.txt\n",
      "V:  129\n",
      "#results:  0\n",
      "5.07 ms ± 0 ns per loop (mean ± std. dev. of 1 run, 1 loop each)\n",
      "#results:  0\n",
      "10.7 ms ± 0 ns per loop (mean ± std. dev. of 1 run, 1 loop each)\n",
      "\n",
      "biomedical-mesure-primitive.txt\n",
      "V:  341\n",
      "#results:  2871\n",
      "35.7 ms ± 0 ns per loop (mean ± std. dev. of 1 run, 1 loop each)\n",
      "#results:  2871\n",
      "74.7 ms ± 0 ns per loop (mean ± std. dev. of 1 run, 1 loop each)\n",
      "\n",
      "pizza.txt\n",
      "V:  671\n",
      "#results:  1262\n",
      "161 ms ± 0 ns per loop (mean ± std. dev. of 1 run, 1 loop each)\n",
      "#results:  1262\n",
      "316 ms ± 0 ns per loop (mean ± std. dev. of 1 run, 1 loop each)\n",
      "\n",
      "univ-bench.txt\n",
      "V:  179\n",
      "#results:  81\n",
      "7.62 ms ± 0 ns per loop (mean ± std. dev. of 1 run, 1 loop each)\n",
      "#results:  81\n",
      "17.6 ms ± 0 ns per loop (mean ± std. dev. of 1 run, 1 loop each)\n",
      "\n",
      "travel.txt\n",
      "V:  131\n",
      "#results:  63\n",
      "5.03 ms ± 0 ns per loop (mean ± std. dev. of 1 run, 1 loop each)\n",
      "#results:  63\n",
      "11.8 ms ± 0 ns per loop (mean ± std. dev. of 1 run, 1 loop each)\n",
      "\n",
      "foaf.txt\n",
      "V:  256\n",
      "#results:  10\n",
      "16.9 ms ± 0 ns per loop (mean ± std. dev. of 1 run, 1 loop each)\n",
      "#results:  10\n",
      "40.1 ms ± 0 ns per loop (mean ± std. dev. of 1 run, 1 loop each)\n",
      "\n",
      "wine.txt\n",
      "V:  733\n",
      "#results:  133\n",
      "171 ms ± 0 ns per loop (mean ± std. dev. of 1 run, 1 loop each)\n",
      "#results:  133\n",
      "350 ms ± 0 ns per loop (mean ± std. dev. of 1 run, 1 loop each)\n",
      "\n",
      "funding.txt\n",
      "V:  778\n",
      "#results:  1158\n",
      "184 ms ± 0 ns per loop (mean ± std. dev. of 1 run, 1 loop each)\n",
      "#results:  1158\n",
      "371 ms ± 0 ns per loop (mean ± std. dev. of 1 run, 1 loop each)\n"
     ]
    }
   ],
   "source": [
    "for i in range(len(graphs)):\n",
    "    print()\n",
    "    print(graphs[i])\n",
    "    graph = os.path.join(gr_path, graphs[i])\n",
    "    result = os.path.join(res_path, results[i])\n",
    "    %timeit -r 1 -n 1 main(graph, result)"
   ]
  },
  {
   "cell_type": "code",
   "execution_count": null,
   "metadata": {},
   "outputs": [],
   "source": []
  }
 ],
 "metadata": {
  "kernelspec": {
   "display_name": "Python 3",
   "language": "python",
   "name": "python3"
  },
  "language_info": {
   "codemirror_mode": {
    "name": "ipython",
    "version": 3
   },
   "file_extension": ".py",
   "mimetype": "text/x-python",
   "name": "python",
   "nbconvert_exporter": "python",
   "pygments_lexer": "ipython3",
   "version": "3.6.7"
  }
 },
 "nbformat": 4,
 "nbformat_minor": 2
}
